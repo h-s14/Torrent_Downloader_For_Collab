{
  "cells": [
    {
      "cell_type": "code",
      "execution_count": null,
      "metadata": {
        "id": "HcnAk2zaBNPe"
      },
      "outputs": [],
      "source": [
        "!python -m pip install --upgrade pip setuptools wheel -q\n",
        "!python -m pip install lbry-libtorrent wget torf -q\n",
        "!apt install python3-libtorrent -q"
      ]
    },
    {
      "cell_type": "code",
      "execution_count": null,
      "metadata": {
        "id": "AenhKyq8B0rH"
      },
      "outputs": [],
      "source": [
        "import libtorrent as lt\n",
        "import time\n",
        "import os\n",
        "\n",
        "params = {\n",
        "    'save_path': '/content/Torrent/',\n",
        "    'storage_mode': lt.storage_mode_t(2),\n",
        "}\n",
        "\n",
        "ses = lt.session()\n",
        "ses.listen_on(6881, 6891)\n",
        "link = input(\"Input Torrent file link or Magnet link and Press Enter: \")"
      ]
    },
    {
      "cell_type": "code",
      "execution_count": null,
      "metadata": {
        "id": "mRlyg5HIAzy9"
      },
      "outputs": [],
      "source": [
        "if link.endswith('.torrent'):\n",
        "    import wget\n",
        "    from torf import Torrent\n",
        "\n",
        "    if os.path.exists('torrent.torrent'):\n",
        "        os.remove('torrent.torrent')\n",
        "\n",
        "    wget.download(link, 'torrent.torrent')\n",
        "    t = Torrent.read('torrent.torrent')\n",
        "    link = str(t.magnet(name=True, size=False, trackers=False, tracker=False))\n",
        "\n",
        "\n",
        "print(link)\n",
        "handle = lt.add_magnet_uri(ses, link, params)"
      ]
    },
    {
      "cell_type": "code",
      "execution_count": null,
      "metadata": {
        "id": "0GH30Hp3B-G5"
      },
      "outputs": [],
      "source": [
        "# Wait for metadata to be available\n",
        "print(\"Fetching metadata...\")\n",
        "while not handle.has_metadata():\n",
        "    time.sleep(1)\n",
        "print(\"Metadata fetched!\")"
      ]
    },
    {
      "cell_type": "code",
      "execution_count": null,
      "metadata": {
        "id": "03DJiTB3CAkm"
      },
      "outputs": [],
      "source": [
        "# Print the file list\n",
        "files = handle.get_torrent_info().files()\n",
        "for i in range(files.num_files()):\n",
        "    print(f'File {i}: {files.file_name(i)}, Size: {files.file_size(i)} bytes;')"
      ]
    },
    {
      "cell_type": "markdown",
      "metadata": {},
      "source": [
        "# <<-- Comment this section to disable google drive saves-->>"
      ]
    },
    {
      "cell_type": "code",
      "execution_count": null,
      "metadata": {
        "id": "tXf6kz1AXBXy"
      },
      "outputs": [],
      "source": [
        "\n",
        "# Mount Google Drive\n",
        "from google.colab import drive\n",
        "drive.mount('/content/drive')\n",
        "# Import the shutil module\n",
        "import shutil\n"
      ]
    },
    {
      "cell_type": "markdown",
      "metadata": {},
      "source": [
        "# <<<--------------------------------------------------------->>>>"
      ]
    },
    {
      "cell_type": "code",
      "execution_count": 8,
      "metadata": {
        "id": "LFWhnaDY83m6"
      },
      "outputs": [],
      "source": [
        "#Creating a File-List Dict\n",
        "file_info={}\n",
        "# Iterate over each index i\n",
        "for i in range(files.num_files()):\n",
        "    # Retrieve file path and size for each index\n",
        "    file_name = files.file_name(i)\n",
        "    file_path = files.file_path(i)\n",
        "\n",
        "    # Construct the entry for the dictionary\n",
        "    file_info[f'{i}'] = {\n",
        "        'name': file_name,\n",
        "        'path': file_path,\n",
        "    }"
      ]
    },
    {
      "cell_type": "code",
      "execution_count": null,
      "metadata": {
        "id": "V0TUXolp9A9q"
      },
      "outputs": [],
      "source": [
        "#Looping Statements For Sequential Download"
      ]
    },
    {
      "cell_type": "code",
      "execution_count": null,
      "metadata": {
        "id": "77NAGjup9PbN"
      },
      "outputs": [],
      "source": [
        "import os\n",
        "import shutil\n",
        "for key, value in file_info.items():\n",
        "  # Setting the file priorities\n",
        "  file_priorities = [0] * files.num_files()  # Set all files to 0 (skip)\n",
        "  file_priorities[int(key)] = 1  # Set the file to 1 (download)\n",
        "  handle.prioritize_files(file_priorities)\n",
        "  # Downloading the Files\n",
        "\n",
        "  print(\"File Downloading : \" + str(value['name']))\n",
        "  # Start the session\n",
        "  ses.start_dht()\n",
        "  print(value['name'])\n",
        "  # Monitor the download progress\n",
        "  while True:\n",
        "    s = handle.status()\n",
        "    state_str = ['queued', 'checking', 'downloading metadata',\n",
        "                 'downloading', 'finished', 'seeding', 'allocating']\n",
        "\n",
        "    print('%.2f%% complete (down: %.1f kB/s up: %.1f kB/s peers: %d) %s ' %\n",
        "          (s.progress * 100, s.download_rate / 1000, s.upload_rate / 1000,\n",
        "           s.num_peers, state_str[s.state]))\n",
        "\n",
        "    if s.state == lt.torrent_status.finished:\n",
        "        print(handle.name(), \"COMPLETE\")\n",
        "        break\n",
        "\n",
        "    time.sleep(5)\n",
        "\n",
        "    end = time.time()\n",
        "    \n",
        "    \n",
        "#<<<<<<<<<<<<<<--- Comment to disable Google Drive saves--->>>>>>>>>>>>>>>>>\n",
        "\n",
        "\n",
        "  #Copying the Recently Downloaded file to drive\n",
        "  source_file_path = \"/content/Torrent/\" + value['path']\n",
        "  destination_file_path = '/content/drive/My Drive/'\n",
        "\n",
        "  # Copy the file\n",
        "  shutil.copy(source_file_path, destination_file_path)\n",
        "\n",
        "  print('File copied successfully.')\n",
        "#Deleting the directory after each file copy to facilitate unlimites size downloads\n",
        "\n",
        "# Define the directory path and the file to keep\n",
        "  file_path = value['path']\n",
        "  path_to_delete = '/content/Torrent/'+ file_path\n",
        "  os.remove(path_to_delete)\n",
        "  print('deleted' + value['name'])\n",
        "  \n",
        "  \n",
        "#<<<<<<<<<<<<<<<<<<<------------------------------------->>>>>>>>>>>>>>>>>>>>>>>"
      ]
    }
  ],
  "metadata": {
    "colab": {
      "provenance": []
    },
    "kernelspec": {
      "display_name": "Python 3",
      "name": "python3"
    },
    "language_info": {
      "name": "python"
    }
  },
  "nbformat": 4,
  "nbformat_minor": 0
}
